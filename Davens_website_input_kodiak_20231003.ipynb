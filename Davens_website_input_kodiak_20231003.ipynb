{
 "cells": [
  {
   "cell_type": "markdown",
   "metadata": {},
   "source": [
    "Code that takes a PRo3D dip and strike output json file and puts it in the format of Dave's planeview plotter\n",
    "\n",
    "https://davenquinn.com/projects/attitude/plotter/"
   ]
  },
  {
   "cell_type": "code",
   "execution_count": 1,
   "metadata": {},
   "outputs": [
    {
     "ename": "NameError",
     "evalue": "name 'cm' is not defined",
     "output_type": "error",
     "traceback": [
      "\u001b[1;31m---------------------------------------------------------------------------\u001b[0m",
      "\u001b[1;31mNameError\u001b[0m                                 Traceback (most recent call last)",
      "\u001b[1;32m~\\AppData\\Local\\Temp\\ipykernel_28648\\2814806426.py\u001b[0m in \u001b[0;36m<module>\u001b[1;34m\u001b[0m\n\u001b[0;32m     20\u001b[0m \u001b[0mpaths\u001b[0m \u001b[1;33m=\u001b[0m \u001b[0mpaths\u001b[0m\u001b[1;33m[\u001b[0m\u001b[1;33m:\u001b[0m\u001b[1;33m]\u001b[0m\u001b[1;33m\u001b[0m\u001b[1;33m\u001b[0m\u001b[0m\n\u001b[0;32m     21\u001b[0m \u001b[1;33m\u001b[0m\u001b[0m\n\u001b[1;32m---> 22\u001b[1;33m \u001b[0mviridis\u001b[0m \u001b[1;33m=\u001b[0m \u001b[0mcm\u001b[0m\u001b[1;33m.\u001b[0m\u001b[0mget_cmap\u001b[0m\u001b[1;33m(\u001b[0m\u001b[1;34m'viridis'\u001b[0m\u001b[1;33m,\u001b[0m \u001b[1;36m1\u001b[0m  \u001b[1;33m)\u001b[0m\u001b[1;33m\u001b[0m\u001b[1;33m\u001b[0m\u001b[0m\n\u001b[0m\u001b[0;32m     23\u001b[0m \u001b[1;31m# rgbas   = viridis( range(len(paths)))\u001b[0m\u001b[1;33m\u001b[0m\u001b[1;33m\u001b[0m\u001b[0m\n\u001b[0;32m     24\u001b[0m \u001b[1;33m\u001b[0m\u001b[0m\n",
      "\u001b[1;31mNameError\u001b[0m: name 'cm' is not defined"
     ]
    }
   ],
   "source": [
    "import pandas as pd\n",
    "import json, glob\n",
    "import numpy as np\n",
    "import matplotlib\n",
    "import matplotlib.pyplot as plt\n",
    "import matplotlib.cm as cm\n",
    "\n",
    "\n",
    "#          blue       green      orange      red\n",
    "colors = ['#1F77B4', '#2CA02C', '#FF7F0E',  '#FF0000',  '#9467BD',  ]\n",
    "# color = '#1F77B4' #blue\n",
    "# color = '#FF7F0E' #orange\n",
    "# color = '#2CA02C' #green\n",
    "# color = '#568961' #green\n",
    "# color = '#FF0000' #red\n",
    "# color = '#9467BD' #purple\n",
    "\n",
    "f = '2b'\n",
    "\n",
    "paths = glob.glob( 'C:/Users/cornell/Desktop/PRo3D/m27_Kodiak_100m_scalebar_flat/'+f+'*.json' )\n",
    "paths = paths[:]\n",
    "\n",
    "viridis = cm.get_cmap('viridis', 1  )\n",
    "# rgbas   = viridis( range(len(paths)))\n",
    "\n",
    "cs = []\n",
    "gs = []\n",
    "\n",
    "for i in range( len(paths)):\n",
    "    \n",
    "    group = paths[i].split('\\\\')[-1].split('.')[0]\n",
    "    \n",
    "#     color = matplotlib.colors.rgb2hex( rgbas[i] )\n",
    "\n",
    "    if group[0] == '1': \n",
    "        color = colors[0]\n",
    "    elif group[0] == '2': \n",
    "        if int( group[-1] ) <=2: \n",
    "            color = colors[1]   \n",
    "        elif int( group[-1] ) <=7: \n",
    "            color = colors[2]       \n",
    "        else: \n",
    "            color = colors[3]\n",
    "            \n",
    "    color = matplotlib.colors.rgb2hex( cm.viridis( i/len(paths) ) )\n",
    "    cs.append( color )\n",
    "    gs.append( group )\n",
    "    \n",
    "    with open( paths[i], 'r') as datafile:\n",
    "        data = json.load(datafile)\n",
    "        \n",
    "    df = pd.DataFrame(data)[[ 'strike', 'dip', 'rake', 'max_angular_error', 'min_angular_error', ]]\n",
    "\n",
    "    cutoff = 60\n",
    "    df = df.drop(df[ df.max_angular_error > cutoff ].index)\n",
    "    df[\"color\"] = color\n",
    "    df[\"group\"] = group\n",
    "    \n",
    "    cmin, cmax = [10, 40 ]\n",
    "#     d = viridis( df.dip )\n",
    "#     for i in df.index.values:\n",
    "#         df[\"color\"][i] = matplotlib.colors.rgb2hex( cm.ocean(  ( df.dip[i] - cmin ) /( cmax - cmin )) )\n",
    "#         df[\"color\"][i] = matplotlib.colors.rgb2hex( cm.viridis( i/len(paths) ) )\n",
    "\n",
    "#     path_csv  = path_json.split('.')[0]+'.csv'\n",
    "#     df.to_csv( path_csv )\n",
    "\n",
    "    # this line is need because the model had anon-standard rotation, remove if not necessary\n",
    "    # df.strike = (df.strike-90)%360  \n",
    "\n",
    "    dip    = np.sum(df.dip/df.max_angular_error**2)/np.sum(1/df.max_angular_error**2)\n",
    "    strike = (np.sum(df.strike/df.max_angular_error**2)/np.sum(1/df.max_angular_error**2) +90 )%360\n",
    "\n",
    "\n",
    "    print(df.to_csv(sep='\t',index=False,header=False, float_format='%.3f'))\n",
    "#     print( '{:.0f}° dip {:.0f}° strike N={:}'.format( dip, strike, df.shape[0] ), group   )\n",
    "#     print( '{:.0f}° / {:.0f}°N'.format( dip, strike ), group   )\n",
    "\n",
    "    "
   ]
  },
  {
   "cell_type": "code",
   "execution_count": 206,
   "metadata": {},
   "outputs": [
    {
     "data": {
      "text/plain": [
       "[31.1047456430991, -133.681057903067, -25.140261431714]"
      ]
     },
     "execution_count": 206,
     "metadata": {},
     "output_type": "execute_result"
    }
   ],
   "source": []
  },
  {
   "cell_type": "code",
   "execution_count": 177,
   "metadata": {},
   "outputs": [
    {
     "data": {
      "text/plain": [
       "(array([10, 15, 20, 25, 30, 35, 40]),\n",
       " ['#440154', '#443983', '#31688e', '#21918c', '#35b779', '#90d743', '#fde725'])"
      ]
     },
     "execution_count": 177,
     "metadata": {},
     "output_type": "execute_result"
    }
   ],
   "source": [
    "ds = np.arange( cmin, cmax+1, 5)\n",
    "cs = []\n",
    "for i in range(len(ds)):\n",
    "    cs.append( matplotlib.colors.rgb2hex( cm.viridis(  ( ds[i] - cmin ) /( cmax - cmin )) ) )\n",
    "    \n",
    "ds,cs"
   ]
  },
  {
   "cell_type": "code",
   "execution_count": 185,
   "metadata": {},
   "outputs": [
    {
     "data": {
      "image/png": "[encoded data removed]",
      "text/plain": [
       "<Figure size 360x288 with 2 Axes>"
      ]
     },
     "metadata": {
      "needs_background": "light"
     },
     "output_type": "display_data"
    }
   ],
   "source": [
    "plt.figure( figsize= [5,4])\n",
    "plt.imshow( np.meshgrid(np.linspace(cmin,cmax,100),np.linspace(cmax,cmin,100))[1] )\n",
    "plt.colorbar()\n",
    "plt.savefig( 'colorbar_{:}_to_{:}.png'.format(cmin,cmax), dpi=500,quality=90)"
   ]
  },
  {
   "cell_type": "code",
   "execution_count": null,
   "metadata": {},
   "outputs": [],
   "source": [
    "53.660\t6.852\t1.570\t1.976\t0.336\t#1F77B4\t1a1\n",
    "74.732\t5.514\t1.630\t14.805\t0.913\t#1F77B4\t1a1\n",
    "26.610\t3.697\t1.533\t5.589\t0.814\t#1F77B4\t1a1\n",
    "259.057\t5.514\t1.549\t9.423\t1.291\t#1F77B4\t1a1\n",
    "39.323\t4.405\t1.549\t38.471\t1.390\t#1F77B4\t1a1\n",
    "40.042\t3.107\t1.554\t4.196\t0.726\t#1F77B4\t1a1\n",
    "328.708\t3.922\t1.503\t5.532\t1.144\t#1F77B4\t1a1\n",
    "34.174\t5.102\t1.576\t25.294\t1.686\t#1F77B4\t1a1\n",
    "160.095\t3.469\t1.623\t13.513\t0.752\t#1F77B4\t1a1\n",
    "291.881\t4.385\t1.499\t2.000\t0.273\t#1F77B4\t1a1\n",
    "14.658\t5.467\t1.555\t16.965\t1.084\t#1F77B4\t1a1\n",
    "72.867\t4.857\t1.610\t8.477\t1.031\t#1F77B4\t1a1\n",
    "50.689\t1.568\t1.567\t11.853\t0.926\t#1F77B4\t1a1\n",
    "305.283\t3.697\t1.507\t1.788\t0.257\t#1F77B4\t1a1\n",
    "23.500\t3.540\t1.539\t16.950\t0.655\t#1F77B4\t1a1\n",
    "70.471\t8.841\t1.577\t14.255\t1.336\t#1F77B4\t1a1\n",
    "\n",
    "65.469\t2.575\t1.599\t32.688\t2.823\t#1F77B4\t1a2\n",
    "39.160\t3.727\t1.629\t4.856\t0.705\t#1F77B4\t1a2\n",
    "43.807\t5.028\t1.617\t4.665\t1.119\t#1F77B4\t1a2\n",
    "131.213\t3.380\t1.614\t17.303\t1.602\t#1F77B4\t1a2\n",
    "49.106\t6.342\t1.675\t20.237\t1.715\t#1F77B4\t1a2\n",
    "35.178\t11.469\t1.653\t6.765\t1.187\t#1F77B4\t1a2\n",
    "34.279\t4.149\t1.615\t8.566\t1.865\t#1F77B4\t1a2\n",
    "28.124\t4.623\t1.625\t22.035\t1.583\t#1F77B4\t1a2\n",
    "34.286\t5.944\t1.659\t31.842\t1.555\t#1F77B4\t1a2\n",
    "3.914\t6.982\t1.640\t19.390\t0.870\t#1F77B4\t1a2\n",
    "127.808\t3.239\t1.615\t10.871\t1.128\t#1F77B4\t1a2\n",
    "14.038\t3.612\t1.602\t16.407\t0.989\t#1F77B4\t1a2\n",
    "41.516\t14.415\t1.654\t57.175\t2.986\t#1F77B4\t1a2\n",
    "54.144\t4.657\t1.616\t4.177\t0.737\t#1F77B4\t1a2\n",
    "30.186\t4.138\t1.619\t16.628\t2.238\t#1F77B4\t1a2\n",
    "110.665\t4.539\t1.650\t7.525\t1.275\t#1F77B4\t1a2\n",
    "22.601\t10.237\t1.540\t9.375\t0.870\t#1F77B4\t1a2\n",
    "34.486\t2.747\t1.610\t9.253\t1.525\t#1F77B4\t1a2\n",
    "96.939\t2.740\t1.616\t4.044\t1.909\t#1F77B4\t1a2\n",
    "343.502\t4.141\t1.551\t1.770\t0.673\t#1F77B4\t1a2\n",
    "7.286\t5.241\t1.626\t14.247\t1.364\t#1F77B4\t1a2\n",
    "59.914\t7.171\t1.650\t33.887\t2.558\t#1F77B4\t1a2\n",
    "77.104\t2.788\t1.617\t33.060\t1.296\t#1F77B4\t1a2\n",
    "101.349\t2.261\t1.607\t4.077\t0.691\t#1F77B4\t1a2\n",
    "\n",
    "160.474\t8.142\t1.559\t4.057\t0.364\t#2CA02C\t2a1\n",
    "344.647\t13.606\t1.576\t20.071\t1.047\t#2CA02C\t2a1\n",
    "84.434\t5.362\t1.638\t8.162\t0.765\t#2CA02C\t2a1\n",
    "115.393\t2.305\t1.597\t17.607\t1.693\t#2CA02C\t2a1\n",
    "186.941\t0.681\t1.566\t6.895\t1.680\t#2CA02C\t2a1\n",
    "\n",
    "251.339\t4.236\t1.530\t4.848\t0.549\t#FF7F0E\t2a2\n",
    "267.850\t9.401\t1.544\t11.231\t0.925\t#FF7F0E\t2a2\n",
    "258.774\t9.662\t1.581\t11.809\t0.682\t#FF7F0E\t2a2\n",
    "102.372\t5.104\t1.571\t13.929\t1.058\t#FF7F0E\t2a2\n",
    "150.837\t2.701\t1.607\t6.625\t0.873\t#FF7F0E\t2a2\n",
    "239.284\t3.541\t1.595\t9.119\t0.708\t#FF7F0E\t2a2\n",
    "266.528\t9.029\t1.554\t9.824\t0.803\t#FF7F0E\t2a2\n",
    "258.762\t4.881\t1.571\t3.562\t0.892\t#FF7F0E\t2a2\n",
    "128.791\t4.148\t1.634\t5.194\t0.976\t#FF7F0E\t2a2\n",
    "\n",
    "256.737\t7.503\t1.580\t3.473\t0.707\t#FF7F0E\t2a3\n",
    "251.976\t5.697\t1.529\t2.995\t0.587\t#FF7F0E\t2a3\n",
    "75.078\t6.555\t1.598\t27.987\t0.931\t#FF7F0E\t2a3\n",
    "214.667\t5.095\t1.639\t13.664\t1.107\t#FF7F0E\t2a3"
   ]
  },
  {
   "cell_type": "code",
   "execution_count": 59,
   "metadata": {},
   "outputs": [
    {
     "ename": "SyntaxError",
     "evalue": "invalid syntax (<ipython-input-59-69f248ac6707>, line 1)",
     "output_type": "error",
     "traceback": [
      "\u001b[1;36m  File \u001b[1;32m\"<ipython-input-59-69f248ac6707>\"\u001b[1;36m, line \u001b[1;32m1\u001b[0m\n\u001b[1;33m    79.195\t18.333\t1.760\t20.585\t0.988\t#1F77B4\t1b1\u001b[0m\n\u001b[1;37m          \t     ^\u001b[0m\n\u001b[1;31mSyntaxError\u001b[0m\u001b[1;31m:\u001b[0m invalid syntax\n"
     ]
    }
   ],
   "source": [
    "79.195\t18.333\t1.760\t20.585\t0.988\t#1F77B4\t1b1\n",
    "81.348\t18.860\t1.811\t52.765\t6.213\t#1F77B4\t1b1\n",
    "89.750\t15.940\t1.786\t22.867\t1.734\t#1F77B4\t1b1\n",
    "\n",
    "36.069\t22.421\t1.923\t19.179\t0.753\t#1F77B4\t1b2\n",
    "52.611\t29.631\t2.081\t16.847\t1.097\t#1F77B4\t1b2\n",
    "29.336\t39.280\t2.122\t34.238\t0.767\t#1F77B4\t1b2\n",
    "33.359\t42.091\t2.087\t25.001\t0.934\t#1F77B4\t1b2\n",
    "62.828\t31.488\t2.120\t19.749\t0.871\t#1F77B4\t1b2\n",
    "44.881\t32.743\t2.104\t47.410\t1.872\t#1F77B4\t1b2\n",
    "44.560\t35.214\t2.147\t11.930\t0.545\t#1F77B4\t1b2\n",
    "34.055\t39.026\t2.093\t25.076\t1.623\t#1F77B4\t1b2\n",
    "56.586\t32.592\t1.963\t6.833\t1.827\t#1F77B4\t1b2\n",
    "32.131\t41.260\t2.073\t27.397\t0.602\t#1F77B4\t1b2\n",
    "\n",
    "46.788\t22.429\t1.847\t10.357\t1.055\t#1F77B4\t1b3\n",
    "42.869\t26.965\t1.841\t12.187\t1.403\t#1F77B4\t1b3\n",
    "35.429\t24.029\t1.976\t7.951\t2.063\t#1F77B4\t1b3\n",
    "22.220\t28.706\t1.972\t30.486\t4.535\t#1F77B4\t1b3\n",
    "53.230\t18.246\t1.729\t13.102\t1.914\t#1F77B4\t1b3\n",
    "73.731\t10.518\t1.745\t30.302\t2.339\t#1F77B4\t1b3\n",
    "42.958\t24.493\t1.834\t7.461\t0.943\t#1F77B4\t1b3\n",
    "44.667\t23.619\t1.874\t7.922\t0.998\t#1F77B4\t1b3\n",
    "\n",
    "76.125\t15.431\t1.840\t5.135\t1.016\t#2CA02C\t2b0\n",
    "78.529\t12.362\t1.787\t15.246\t1.797\t#2CA02C\t2b0\n",
    "71.463\t15.853\t1.819\t9.593\t0.915\t#2CA02C\t2b0\n",
    "\n",
    "87.646\t14.612\t1.823\t5.617\t0.980\t#2CA02C\t2b1\n",
    "79.394\t17.494\t1.850\t2.970\t1.280\t#2CA02C\t2b1\n",
    "88.846\t15.025\t1.833\t2.422\t0.727\t#2CA02C\t2b1\n",
    "116.773\t22.085\t1.889\t16.778\t0.839\t#2CA02C\t2b1\n",
    "101.070\t26.085\t1.973\t39.325\t1.109\t#2CA02C\t2b1\n",
    "84.188\t14.666\t1.812\t3.777\t1.536\t#2CA02C\t2b1\n",
    "103.660\t25.686\t2.011\t4.560\t1.131\t#2CA02C\t2b1\n",
    "159.507\t32.644\t1.889\t51.942\t1.405\t#2CA02C\t2b1\n",
    "80.872\t18.472\t1.891\t8.084\t1.879\t#2CA02C\t2b1\n",
    "\n",
    "104.813\t30.399\t2.059\t57.073\t2.820\t#2CA02C\t2b2\n",
    "81.510\t35.592\t2.064\t31.479\t1.549\t#2CA02C\t2b2\n",
    "102.662\t32.874\t2.144\t4.835\t0.764\t#2CA02C\t2b2\n",
    "83.872\t35.063\t2.034\t33.429\t1.476\t#2CA02C\t2b2\n",
    "93.122\t31.628\t2.047\t25.544\t1.181\t#2CA02C\t2b2\n",
    "66.536\t35.848\t2.154\t9.923\t1.429\t#2CA02C\t2b2\n",
    "85.064\t31.770\t1.979\t21.027\t1.421\t#2CA02C\t2b2\n",
    "88.909\t35.955\t2.103\t17.452\t1.228\t#2CA02C\t2b2\n",
    "114.300\t36.969\t2.102\t19.756\t2.293\t#2CA02C\t2b2\n",
    "84.305\t40.206\t2.173\t17.158\t0.966\t#2CA02C\t2b2\n",
    "\n",
    "70.124\t27.993\t2.050\t10.723\t1.083\t#2CA02C\t2b3\n",
    "91.031\t28.133\t2.007\t14.333\t1.079\t#2CA02C\t2b3\n",
    "70.779\t28.465\t2.039\t27.847\t1.816\t#2CA02C\t2b3\n",
    "\n",
    "120.920\t32.290\t2.007\t19.878\t1.173\t#FF7F0E\t2b4\n",
    "117.203\t32.426\t1.977\t23.760\t1.349\t#FF7F0E\t2b4\n",
    "\n",
    "213.338\t25.318\t1.938\t18.602\t1.112\t#FF7F0E\t2b5\n",
    "193.769\t18.147\t1.256\t55.736\t1.043\t#FF7F0E\t2b5\n",
    "203.123\t20.854\t1.227\t15.916\t0.861\t#FF7F0E\t2b5\n",
    "\n",
    "137.537\t30.121\t2.045\t11.505\t1.520\t#FF7F0E\t2b6\n",
    "139.361\t30.089\t2.095\t42.084\t4.578\t#FF7F0E\t2b6\n",
    "\n",
    "112.889\t29.225\t2.023\t30.141\t4.620\t#FF7F0E\t2b7\n",
    "138.567\t30.056\t2.095\t11.105\t1.356\t#FF7F0E\t2b7\n",
    "137.821\t33.273\t2.051\t16.490\t0.964\t#FF7F0E\t2b7\n",
    "155.336\t27.585\t2.030\t39.136\t2.284\t#FF7F0E\t2b7\n",
    "133.136\t30.598\t2.101\t5.669\t0.747\t#FF7F0E\t2b7\n",
    "\n",
    "99.363\t26.377\t1.904\t37.128\t2.138\t#FF0000\t2b8\n",
    "180.281\t13.008\t1.797\t25.097\t0.824\t#FF0000\t2b8\n",
    "\n",
    "312.805\t15.335\t1.336\t21.897\t2.253\t#FF0000\t2b9\n",
    "315.181\t18.821\t1.276\t8.737\t0.788\t#FF0000\t2b9\n",
    "268.069\t40.710\t1.284\t22.760\t1.337\t#FF0000\t2b9\n",
    "305.037\t19.004\t1.274\t9.399\t0.874\t#FF0000\t2b9\n",
    "302.909\t22.939\t1.330\t52.154\t3.888\t#FF0000\t2b9\n",
    "299.834\t22.426\t1.328\t15.635\t1.160\t#FF0000\t2b9\n",
    "314.609\t16.405\t1.346\t8.352\t1.163\t#FF0000\t2b9\n",
    "305.776\t16.950\t1.358\t11.668\t1.297\t#FF0000\t2b9\n",
    "284.643\t25.718\t1.371\t29.309\t1.720\t#FF0000\t2b9\n",
    "279.914\t18.597\t1.310\t15.912\t0.961\t#FF0000\t2b9"
   ]
  },
  {
   "cell_type": "code",
   "execution_count": null,
   "metadata": {},
   "outputs": [],
   "source": [
    "79.195\t18.333\t1.760\t20.585\t0.988\t#001547\t1b1\n",
    "89.750\t15.940\t1.786\t22.867\t1.734\t#003432\t1b1\n",
    "\n",
    "36.069\t22.421\t1.923\t19.179\t0.753\t#001e69\t1b2\n",
    "52.611\t29.631\t2.081\t16.847\t1.097\t#007ba7\t1b2\n",
    "33.359\t42.091\t2.087\t25.001\t0.934\t#ffffff\t1b2\n",
    "62.828\t31.488\t2.120\t19.749\t0.871\t#2793b7\t1b2\n",
    "44.560\t35.214\t2.147\t11.930\t0.545\t#87c3d7\t1b2\n",
    "34.055\t39.026\t2.093\t25.076\t1.623\t#e7f3f7\t1b2\n",
    "56.586\t32.592\t1.963\t6.833\t1.827\t#42a0c0\t1b2\n",
    "32.131\t41.260\t2.073\t27.397\t0.602\t#ffffff\t1b2\n",
    "\n",
    "46.788\t22.429\t1.847\t10.357\t1.055\t#00206a\t1b3\n",
    "42.869\t26.965\t1.841\t12.187\t1.403\t#005890\t1b3\n",
    "35.429\t24.029\t1.976\t7.951\t2.063\t#003377\t1b3\n",
    "53.230\t18.246\t1.729\t13.102\t1.914\t#001646\t1b3\n",
    "42.958\t24.493\t1.834\t7.461\t0.943\t#00397b\t1b3\n",
    "44.667\t23.619\t1.874\t7.922\t0.998\t#002f74\t1b3\n",
    "\n",
    "76.125\t15.431\t1.840\t5.135\t1.016\t#003b2e\t2b0\n",
    "78.529\t12.362\t1.787\t15.246\t1.797\t#006214\t2b0\n",
    "71.463\t15.853\t1.819\t9.593\t0.915\t#003631\t2b0\n",
    "\n",
    "87.646\t14.612\t1.823\t5.617\t0.980\t#004527\t2b1\n",
    "79.394\t17.494\t1.850\t2.970\t1.280\t#00213f\t2b1\n",
    "88.846\t15.025\t1.833\t2.422\t0.727\t#00402a\t2b1\n",
    "116.773\t22.085\t1.889\t16.778\t0.839\t#001b67\t2b1\n",
    "84.188\t14.666\t1.812\t3.777\t1.536\t#004527\t2b1\n",
    "103.660\t25.686\t2.011\t4.560\t1.131\t#004885\t2b1\n",
    "80.872\t18.472\t1.891\t8.084\t1.879\t#001448\t2b1\n",
    "\n",
    "102.662\t32.874\t2.144\t4.835\t0.764\t#4ba5c3\t2b2\n",
    "93.122\t31.628\t2.047\t25.544\t1.181\t#2a94b8\t2b2\n",
    "66.536\t35.848\t2.154\t9.923\t1.429\t#96cbdc\t2b2\n",
    "85.064\t31.770\t1.979\t21.027\t1.421\t#2d96b9\t2b2\n",
    "88.909\t35.955\t2.103\t17.452\t1.228\t#99ccdd\t2b2\n",
    "114.300\t36.969\t2.102\t19.756\t2.293\t#b4dae6\t2b2\n",
    "84.305\t40.206\t2.173\t17.158\t0.966\t#ffffff\t2b2\n",
    "\n",
    "70.124\t27.993\t2.050\t10.723\t1.083\t#006699\t2b3\n",
    "91.031\t28.133\t2.007\t14.333\t1.079\t#00679a\t2b3\n",
    "70.779\t28.465\t2.039\t27.847\t1.816\t#006c9d\t2b3\n",
    "\n",
    "120.920\t32.290\t2.007\t19.878\t1.173\t#3c9ebe\t2b4\n",
    "117.203\t32.426\t1.977\t23.760\t1.349\t#3f9fbf\t2b4\n",
    "\n",
    "213.338\t25.318\t1.938\t18.602\t1.112\t#004382\t2b5\n",
    "203.123\t20.854\t1.227\t15.916\t0.861\t#000a5c\t2b5\n",
    "\n",
    "137.537\t30.121\t2.045\t11.505\t1.520\t#0381ab\t2b6\n",
    "\n",
    "138.567\t30.056\t2.095\t11.105\t1.356\t#0381ab\t2b7\n",
    "137.821\t33.273\t2.051\t16.490\t0.964\t#54aac6\t2b7\n",
    "133.136\t30.598\t2.101\t5.669\t0.747\t#0f87af\t2b7\n",
    "\n",
    "180.281\t13.008\t1.797\t25.097\t0.824\t#005a19\t2b8\n",
    "\n",
    "312.805\t15.335\t1.336\t21.897\t2.253\t#003c2d\t2b9\n",
    "315.181\t18.821\t1.276\t8.737\t0.788\t#000f4b\t2b9\n",
    "268.069\t40.710\t1.284\t22.760\t1.337\t#ffffff\t2b9\n",
    "305.037\t19.004\t1.274\t9.399\t0.874\t#000e4c\t2b9\n",
    "299.834\t22.426\t1.328\t15.635\t1.160\t#00206a\t2b9\n",
    "314.609\t16.405\t1.346\t8.352\t1.163\t#002f36\t2b9\n",
    "305.776\t16.950\t1.358\t11.668\t1.297\t#00273b\t2b9\n",
    "284.643\t25.718\t1.371\t29.309\t1.720\t#004a86\t2b9\n",
    "279.914\t18.597\t1.310\t15.912\t0.961\t#001249\t2b9"
   ]
  },
  {
   "cell_type": "code",
   "execution_count": null,
   "metadata": {},
   "outputs": [],
   "source": [
    "58.475\t8.623\t1.652\t10.980\t1.664\t#440154\t1c1\n",
    "58.278\t5.990\t1.627\t10.306\t1.560\t#440154\t1c1\n",
    "85.178\t6.574\t1.655\t3.033\t0.851\t#440154\t1c1\n",
    "\n",
    "20.980\t6.353\t1.641\t11.960\t1.290\t#3b528b\t2c1\n",
    "154.826\t6.765\t1.635\t10.826\t0.913\t#3b528b\t2c1\n",
    "8.239\t12.572\t1.644\t19.547\t1.515\t#3b528b\t2c1\n",
    "161.438\t7.739\t1.631\t10.480\t0.717\t#3b528b\t2c1\n",
    "\n",
    "323.417\t3.462\t1.545\t20.338\t0.741\t#21918c\t2c2\n",
    "286.011\t4.326\t1.544\t20.857\t0.925\t#21918c\t2c2\n",
    "219.609\t4.440\t1.511\t43.410\t1.571\t#21918c\t2c2\n",
    "89.675\t4.469\t1.637\t3.791\t0.652\t#21918c\t2c2\n",
    "141.375\t3.761\t1.549\t20.512\t0.871\t#21918c\t2c2\n",
    "\n",
    "70.699\t8.428\t1.523\t47.969\t1.290\t#5ec962\t2c3"
   ]
  },
  {
   "cell_type": "code",
   "execution_count": 208,
   "metadata": {},
   "outputs": [
    {
     "ename": "SyntaxError",
     "evalue": "invalid syntax (<ipython-input-208-ac574275c2f1>, line 1)",
     "output_type": "error",
     "traceback": [
      "\u001b[1;36m  File \u001b[1;32m\"<ipython-input-208-ac574275c2f1>\"\u001b[1;36m, line \u001b[1;32m1\u001b[0m\n\u001b[1;33m    8.552\t33.358\t1.655\t14.228\t5.942\t#440154\tskirt_e\u001b[0m\n\u001b[1;37m         \t     ^\u001b[0m\n\u001b[1;31mSyntaxError\u001b[0m\u001b[1;31m:\u001b[0m invalid syntax\n"
     ]
    }
   ],
   "source": [
    "8.552\t33.358\t1.655\t14.228\t5.942\t#440154\tskirt_e\n",
    "52.229\t32.413\t1.165\t2.065\t1.839\t#440154\tskirt_e\n",
    "359.577\t28.601\t1.244\t5.199\t3.564\t#440154\tskirt_e\n",
    "23.293\t29.279\t1.426\t10.221\t7.497\t#440154\tskirt_e\n",
    "7.128\t33.082\t1.595\t0.598\t0.434\t#440154\tskirt_e\n",
    "1.227\t22.179\t1.914\t5.397\t4.318\t#440154\tskirt_e\n",
    "32.119\t32.313\t1.083\t1.373\t1.131\t#440154\tskirt_e\n",
    "65.116\t32.721\t1.626\t6.466\t4.682\t#440154\tskirt_e\n",
    "8.714\t33.688\t1.827\t1.383\t0.883\t#440154\tskirt_e\n",
    "20.964\t32.742\t1.263\t3.034\t1.743\t#440154\tskirt_e\n",
    "356.108\t34.007\t1.863\t7.952\t4.383\t#440154\tskirt_e\n",
    "354.935\t21.685\t1.193\t8.071\t5.394\t#440154\tskirt_e\n",
    "46.903\t31.276\t2.115\t2.267\t1.716\t#440154\tskirt_e\n",
    "30.141\t31.240\t1.639\t2.483\t2.095\t#440154\tskirt_e\n",
    "59.504\t30.177\t1.704\t2.507\t2.007\t#440154\tskirt_e\n",
    "359.980\t33.249\t2.027\t2.505\t1.437\t#440154\tskirt_e\n",
    "13.911\t33.926\t1.570\t11.442\t6.716\t#440154\tskirt_e\n",
    "\n",
    "258.508\t30.779\t1.081\t4.698\t1.695\t#3b528b\tskirt_n\n",
    "235.484\t28.178\t1.101\t5.857\t4.402\t#3b528b\tskirt_n\n",
    "236.197\t25.994\t1.150\t1.898\t1.519\t#3b528b\tskirt_n\n",
    "224.775\t29.475\t1.155\t8.954\t1.928\t#3b528b\tskirt_n\n",
    "256.471\t24.016\t1.311\t0.461\t0.233\t#3b528b\tskirt_n\n",
    "257.264\t25.437\t1.351\t4.706\t4.050\t#3b528b\tskirt_n\n",
    "253.416\t27.151\t1.131\t4.802\t2.279\t#3b528b\tskirt_n\n",
    "257.866\t27.987\t1.086\t3.912\t3.035\t#3b528b\tskirt_n\n",
    "252.377\t28.817\t1.081\t1.100\t0.827\t#3b528b\tskirt_n\n",
    "271.893\t27.425\t1.092\t4.544\t2.551\t#3b528b\tskirt_n\n",
    "249.222\t25.289\t1.289\t3.293\t2.560\t#3b528b\tskirt_n\n",
    "244.717\t28.184\t1.329\t2.406\t1.740\t#3b528b\tskirt_n\n",
    "261.677\t30.410\t1.054\t5.885\t3.622\t#3b528b\tskirt_n\n",
    "268.281\t27.928\t1.602\t4.839\t3.680\t#3b528b\tskirt_n\n",
    "222.960\t30.598\t1.247\t5.315\t3.198\t#3b528b\tskirt_n\n",
    "233.472\t25.779\t1.231\t2.921\t1.323\t#3b528b\tskirt_n\n",
    "261.193\t30.262\t1.105\t4.463\t2.766\t#3b528b\tskirt_n\n",
    "263.279\t31.742\t1.028\t4.626\t4.142\t#3b528b\tskirt_n\n",
    "262.367\t26.334\t1.171\t4.758\t4.107\t#3b528b\tskirt_n\n",
    "272.740\t25.133\t1.632\t2.483\t1.842\t#3b528b\tskirt_n\n",
    "268.856\t27.492\t1.096\t5.645\t2.159\t#3b528b\tskirt_n\n",
    "\n",
    "306.828\t32.480\t1.993\t3.429\t2.528\t#21918c\tskirt_ne\n",
    "330.363\t32.510\t1.646\t7.356\t5.002\t#21918c\tskirt_ne\n",
    "279.683\t33.855\t1.189\t16.969\t11.046\t#21918c\tskirt_ne\n",
    "271.848\t30.638\t1.051\t5.325\t1.789\t#21918c\tskirt_ne\n",
    "8.140\t33.431\t1.962\t8.554\t5.676\t#21918c\tskirt_ne\n",
    "303.541\t31.846\t1.816\t4.596\t2.977\t#21918c\tskirt_ne\n",
    "\n",
    "20.713\t11.045\t1.392\t2.156\t1.571\t#5ec962\tskirt_n_top\n",
    "41.734\t14.765\t1.480\t3.833\t1.375\t#5ec962\tskirt_n_top\n",
    "30.403\t11.777\t1.660\t3.926\t3.398\t#5ec962\tskirt_n_top\n",
    "9.489\t10.468\t1.443\t3.305\t2.142\t#5ec962\tskirt_n_top\n",
    "3.016\t10.279\t1.750\t5.348\t3.316\t#5ec962\tskirt_n_top\n",
    "346.853\t13.065\t1.343\t4.822\t4.243\t#5ec962\tskirt_n_top\n",
    "350.649\t23.119\t1.893\t10.727\t7.228\t#5ec962\tskirt_n_top\n",
    "345.526\t12.183\t1.697\t0.873\t0.674\t#5ec962\tskirt_n_top\n",
    "12.288\t10.423\t1.416\t3.920\t1.040\t#5ec962\tskirt_n_top\n",
    "21.534\t6.452\t1.545\t2.644\t1.677\t#5ec962\tskirt_n_top\n",
    "21.541\t18.530\t1.610\t13.293\t7.949\t#5ec962\tskirt_n_top\n",
    "11.835\t9.685\t1.435\t2.545\t1.314\t#5ec962\tskirt_n_top\n",
    "348.259\t10.270\t1.407\t3.114\t2.100\t#5ec962\tskirt_n_top"
   ]
  },
  {
   "cell_type": "code",
   "execution_count": 210,
   "metadata": {},
   "outputs": [
    {
     "data": {
      "text/plain": [
       "(5.903999999999999, 3.9066666666666663)"
      ]
     },
     "execution_count": 210,
     "metadata": {},
     "output_type": "execute_result"
    }
   ],
   "source": [
    "np.mean( [ 5.76, 5.76, 5.99, 5.9, 6.11, ]), np.mean( [ 4.04, 4.05, 3.63 ])"
   ]
  },
  {
   "cell_type": "code",
   "execution_count": 212,
   "metadata": {},
   "outputs": [
    {
     "data": {
      "text/plain": [
       "(7.2625, 8.114285714285714)"
      ]
     },
     "execution_count": 212,
     "metadata": {},
     "output_type": "execute_result"
    }
   ],
   "source": [
    "np.mean( [ 6.65, 7, 7.4, 8, ]),  np.mean( [ 6.7, 8, 7.3 , 8.7, 8.7, 9.4, 8 ])"
   ]
  },
  {
   "cell_type": "code",
   "execution_count": null,
   "metadata": {},
   "outputs": [],
   "source": []
  }
 ],
 "metadata": {
  "kernelspec": {
   "display_name": "Python 3",
   "language": "python",
   "name": "python3"
  },
  "language_info": {
   "codemirror_mode": {
    "name": "ipython",
    "version": 3
   },
   "file_extension": ".py",
   "mimetype": "text/x-python",
   "name": "python",
   "nbconvert_exporter": "python",
   "pygments_lexer": "ipython3",
   "version": "3.9.13"
  }
 },
 "nbformat": 4,
 "nbformat_minor": 2
}
