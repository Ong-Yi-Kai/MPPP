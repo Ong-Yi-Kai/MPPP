{
 "cells": [
  {
   "cell_type": "markdown",
   "metadata": {},
   "source": [
    "## Mars Photogrammetry Preprocessing Pipeline\n",
    "\n",
    "By Christian Tate, Cornell University; Ithaca, NY\n",
    "\n",
    "https://github.com/cdt59/MPPP\n"
   ]
  },
  {
   "cell_type": "code",
   "execution_count": 106,
   "metadata": {},
   "outputs": [],
   "source": [
    "# Import python modules\n",
    "\n",
    "import numpy as np\n",
    "import cv2, glob, time, os\n",
    "import matplotlib.pyplot as plt\n",
    "from scipy import stats\n",
    "# from planetaryimage import PDS3Image\n",
    "# import colour_demosaicing\n",
    "# from PIL import Image\n",
    "# import matplotlib.cm as cm\n",
    "# from scipy import interpolate\n",
    "# from scipy.spatial.transform import Rotation as R\n",
    "# import colour_demosaicing\n",
    "import pandas as pd\n",
    "\n",
    "import Metashape\n",
    "\n",
    "%run MPPP.py\n",
    "\n",
    "%matplotlib inline\n",
    "\n",
    "# directory_input  = 'C:/Users/cdt59/Desktop/agisoft/data'\n",
    "directory_input  = 'Z:/Mastcam-Z/agisoft/data/zcam'\n",
    "\n",
    "\n"
   ]
  },
  {
   "cell_type": "code",
   "execution_count": 2,
   "metadata": {},
   "outputs": [],
   "source": [
    "\n",
    "doc = Metashape.Document( read_only=1 )\n",
    "# doc.open(path=\"C:/Users/cdt59/Desktop/agisoft/m36_site.psx\")\n",
    "doc.open(path=\"Z:/Mastcam-Z/agisoft/jezero/m32_site_cal690_.psx\")\n",
    "\n"
   ]
  },
  {
   "cell_type": "code",
   "execution_count": 123,
   "metadata": {},
   "outputs": [],
   "source": [
    "cam_ID = 'ZL'\n",
    "zoom_ID = '034'"
   ]
  },
  {
   "cell_type": "code",
   "execution_count": 13,
   "metadata": {},
   "outputs": [
    {
     "name": "stdout",
     "output_type": "stream",
     "text": [
      "Wall time: 1min 42s\n"
     ]
    },
    {
     "data": {
      "text/plain": [
       "<Figure size 640x480 with 0 Axes>"
      ]
     },
     "metadata": {},
     "output_type": "display_data"
    }
   ],
   "source": [
    "%%time\n",
    "\n",
    "%run MPPP.py\n",
    "\n",
    "N_cams = len( doc.chunk.cameras )\n",
    "\n",
    "ns  = []\n",
    "fs  = []\n",
    "cxs = []\n",
    "cys = []\n",
    "fos = []\n",
    "\n",
    "for i in range( N_cams ):\n",
    "    \n",
    "    cam = doc.chunk.cameras[ i ]\n",
    "    \n",
    "    if cam.enabled:\n",
    "        if cam.label[:2] == cam_ID and cam.label[45:48] == zoom_ID:\n",
    "            \n",
    "            cam = doc.chunk.cameras[ i ]\n",
    "            \n",
    "            IMG_path = glob.glob( directory_input + '/*/' + cam.label[:54] + '.IMG' )\n",
    "            \n",
    "            if len(IMG_path):\n",
    "                im = image( IMG_path[0], just_label=1 )\n",
    "\n",
    "                fos.append( im.focus_mc )            \n",
    "                ns .append( cam.label )\n",
    "                fs .append( cam.calibration.f )\n",
    "                cxs.append( cam.calibration.cx )\n",
    "                cys.append( cam.calibration.cy )\n"
   ]
  },
  {
   "cell_type": "code",
   "execution_count": 14,
   "metadata": {},
   "outputs": [
    {
     "data": {
      "text/plain": [
       "array([  210,   270,   420,   420,   264,   138,   138,   138,   138,\n",
       "         138,   138,   138,    72,    72,   270,   270,   270,   270,\n",
       "         270,   270,   270,   270,   420,   420,   420,   420,   420,\n",
       "         420,   420,   420,   420,   624,   624,   624,   624,   624,\n",
       "         624,   624,   624,   624,   624,   624,   624,   624,   624,\n",
       "         624,   624,   624,   834,   834,   834,   834,   834,   834,\n",
       "         834,   834,   834,   834,   834,   834,   834,   834,   834,\n",
       "         834,   834,   834,   834,   834,  1062,  1062,  1062,  1062,\n",
       "        1062,  1062,  1062,  1062,  1032,  1032,  1032,  1032,  1032,\n",
       "        1032,  1032,  1032,  1032,  1032,  1032,  1062,  1062,  1062,\n",
       "         216,   -48,   114,    84,  -102,   -12,   -12,  -744,  -744,\n",
       "        -744,  -744, -1026, -1026, -1026,  -378,  -264,  -612,  -264,\n",
       "        -402,  -504,  -780,  -810,  -666,  -666,  -834, -1056,  -762,\n",
       "       -1104, -1056, -1620, -1548, -1086, -1056, -1080, -1008, -1584,\n",
       "       -1542, -1422, -1734, -1800, -1206, -1482,  -270,  -378,  -102,\n",
       "        -102,  -102,   -30,   114,   240,  -174,  -834,  -834,  -378,\n",
       "        -270, -1182, -1056, -1662, -1662, -1662, -1056])"
      ]
     },
     "execution_count": 14,
     "metadata": {},
     "output_type": "execute_result"
    }
   ],
   "source": [
    "fos = np.array( fos )\n",
    "cxs = np.array( cxs )\n",
    "cys = np.array( cys )\n",
    "ns  = np.array( ns  )\n",
    "fs  = np.array( fs  )\n",
    "\n",
    "fos"
   ]
  },
  {
   "cell_type": "code",
   "execution_count": 15,
   "metadata": {},
   "outputs": [],
   "source": [
    "a = np.vstack( [ns,fos,fs,cxs,cys] ) \n",
    "n = cam_ID + '_' + zoom_ID + \".csv\"\n",
    "pd.DataFrame( a.T, columns=['name','focus','f','cx','cy'] ).to_csv( n, index=0 )"
   ]
  },
  {
   "cell_type": "code",
   "execution_count": 124,
   "metadata": {},
   "outputs": [],
   "source": [
    "n = cam_ID + '_' + zoom_ID + \".csv\"\n",
    "df = pd.read_csv( n )"
   ]
  },
  {
   "cell_type": "code",
   "execution_count": null,
   "metadata": {},
   "outputs": [],
   "source": []
  },
  {
   "cell_type": "code",
   "execution_count": 125,
   "metadata": {},
   "outputs": [],
   "source": [
    "D_min, D_near, D_med = [ 1, 3.0, 6.0 ] \n",
    "\n",
    "    \n",
    "if cam_ID == 'ZL':\n",
    "    B,A = [ 1216.2, 2194 ]\n",
    "if cam_ID == 'ZR':\n",
    "    B,A = [ 1276.6, 2264 ]\n",
    "                    \n",
    "def dist_AB( mc_focus, A, B ):\n",
    "    return A / ( B - np.array( mc_focus ) )\n",
    "\n",
    "def focus_AB( dist, A, B ):\n",
    "    return B - A / np.array( dist )\n",
    "\n",
    "focus_min  = focus_AB( D_min , A, B )\n",
    "focus_near = focus_AB( D_near, A, B )\n",
    "focus_med  = focus_AB( D_med , A, B )"
   ]
  },
  {
   "cell_type": "code",
   "execution_count": 126,
   "metadata": {},
   "outputs": [],
   "source": [
    "pf_ = np.polyfit( df.focus, df.f, 1 )\n",
    "fs_  = np.polyval( pf_, df.focus )\n",
    "df = df[ np.abs(df.f - fs_) < 50 ]\n",
    "\n",
    "pf_ = np.polyfit( df.focus, df.f, 1 )\n",
    "fs_  = np.polyval( pf_, df.focus )\n",
    "df = df[ np.abs(df.f - fs_) < 20 ]"
   ]
  },
  {
   "cell_type": "code",
   "execution_count": 127,
   "metadata": {},
   "outputs": [],
   "source": [
    "# ZL 34mm\n",
    "fos_cahvor = [ -1154, -284 ,  48,  426,  498 ]\n",
    "fs_cahvor  = [ 4593.459924, 4635.946265, 4654.881698, 4673.225441, 4676.606105]\n",
    "\n",
    "\n",
    "# # ZR 34mm\n",
    "# fos_cahvor = [ -1142, -266 ,  114,  426,  480 ]\n",
    "# fs_cahvor  = [ 4602.707383, 4643.703681, 4661.593817, 4676.253200, 4679.110562]"
   ]
  },
  {
   "cell_type": "code",
   "execution_count": null,
   "metadata": {},
   "outputs": [],
   "source": []
  },
  {
   "cell_type": "code",
   "execution_count": 130,
   "metadata": {},
   "outputs": [
    {
     "data": {
      "text/plain": [
       "('ZL_034.csv', array([  4.93974088e-02,   4.68814160e+03]))"
      ]
     },
     "execution_count": 130,
     "metadata": {},
     "output_type": "execute_result"
    },
    {
     "data": {
      "image/png": "[encoded data removed]",
      "text/plain": [
       "<Figure size 640x480 with 1 Axes>"
      ]
     },
     "metadata": {},
     "output_type": "display_data"
    }
   ],
   "source": [
    "\n",
    "# def polyfit_zscore( x, y, deg = 1 ):\n",
    "#     df = pd.DataFrame(zip(x, y))\n",
    "#     plt.plot( df[0],df[1], 'r.' )\n",
    "#     df = df[(np.abs(stats.zscore(df)) < 2 ).all(axis=1)]\n",
    "#     plt.plot( df[0],df[1], 'b.' )\n",
    "#     return np.polyfit(df[0], df[1], deg)\n",
    "\n",
    "pf_ = np.polyfit( df.focus, df.f, 1 )\n",
    "\n",
    "fos_ = np.linspace( np.min(df.focus), np.max(df.focus), 100 )\n",
    "fs_  = np.polyval( pf_, fos_ )\n",
    "\n",
    "plt.plot( df.focus, df.f, '.')\n",
    "plt.plot( fos_, fs_, '-', zorder=0)\n",
    "\n",
    "plt.plot( [108+2], [34.49/0.0074], '+r', ms=15, zorder=4 )\n",
    "\n",
    "plt.plot( fos_cahvor, fs_cahvor, 'ok')\n",
    "plt.plot( fos_cahvor, fs_cahvor, '-', color='green', zorder=0)\n",
    "\n",
    "\n",
    "\n",
    "plt.axvline( focus_min, color='grey', ls = '--', zorder = 0 )\n",
    "plt.axvline( focus_near, color='grey', ls = '--', zorder = 0 )\n",
    "plt.text( focus_min+50, 4600,'1 meter')\n",
    "plt.text( focus_near+50, 4600,'3 meters')\n",
    "# plt.ylim([4578,4760])\n",
    "\n",
    "# plt.axvline( focus_med , color='green', ls = '--' )\n",
    "\n",
    "plt.legend(['In-flight photogrammetry solutions','In-flight photogrammetry fit', \n",
    "            'Pre-flight photogrammetry solution',\n",
    "            'Pre-flight metrology solutions', 'Pre-fligth metrology interpolation',\n",
    "            ])\n",
    "plt.title('Mastcam-Z Left 34mm')\n",
    "plt.xlabel('focus, motorcounts')\n",
    "plt.ylabel('effective focal length, pixels')\n",
    "\n",
    "plt.savefig( n[:-4] + '_f.png', dpi = 400)\n",
    "\n",
    "n, pf_"
   ]
  },
  {
   "cell_type": "code",
   "execution_count": 11,
   "metadata": {},
   "outputs": [
    {
     "data": {
      "text/plain": [
       "('ZR_034.csv', array([  5.08587441e-02,   4.69407043e+03]))"
      ]
     },
     "execution_count": 11,
     "metadata": {},
     "output_type": "execute_result"
    },
    {
     "data": {
      "image/png": "[encoded data removed]",
      "text/plain": [
       "<Figure size 640x480 with 1 Axes>"
      ]
     },
     "metadata": {},
     "output_type": "display_data"
    }
   ],
   "source": [
    "\n",
    "# def polyfit_zscore( x, y, deg = 1 ):\n",
    "#     df = pd.DataFrame(zip(x, y))\n",
    "#     plt.plot( df[0],df[1], 'r.' )\n",
    "#     df = df[(np.abs(stats.zscore(df)) < 2 ).all(axis=1)]\n",
    "#     plt.plot( df[0],df[1], 'b.' )\n",
    "#     return np.polyfit(df[0], df[1], deg)\n",
    "\n",
    "pf_ = np.polyfit( df.focus, df.f, 1 )\n",
    "\n",
    "fos_ = np.linspace( np.min(df.focus), np.max(df.focus), 100 )\n",
    "fs_  = np.polyval( pf_, fos_ )\n",
    "\n",
    "plt.plot( fos_, fs_, '-')\n",
    "plt.plot( df.focus, df.f, '.')\n",
    "\n",
    "plt.axvline( focus_near, color='k' )\n",
    "plt.axvline( focus_med , color='k' )\n",
    "\n",
    "n, pf_"
   ]
  },
  {
   "cell_type": "code",
   "execution_count": 13,
   "metadata": {},
   "outputs": [
    {
     "data": {
      "text/plain": [
       "0.171875"
      ]
     },
     "execution_count": 13,
     "metadata": {},
     "output_type": "execute_result"
    },
    {
     "data": {
      "image/png": "[encoded data removed]",
      "text/plain": [
       "<Figure size 640x480 with 1 Axes>"
      ]
     },
     "metadata": {},
     "output_type": "display_data"
    }
   ],
   "source": [
    "plt.hist( fos, 15 )\n",
    "\n",
    "n_near = len(np.array( fos )[ np.array( fos ) <focus_near ])\n",
    "n_far  = len(np.array( fos )[ np.array( fos ) >focus_med ])\n",
    "n_all  = len( fos )\n",
    "n_med  = n_all - n_near - n_far\n",
    "\n",
    "n_far/n_all"
   ]
  },
  {
   "cell_type": "code",
   "execution_count": 26,
   "metadata": {},
   "outputs": [
    {
     "data": {
      "text/plain": [
       "[<matplotlib.lines.Line2D at 0x188eca27730>]"
      ]
     },
     "execution_count": 26,
     "metadata": {},
     "output_type": "execute_result"
    },
    {
     "data": {
      "image/png": "[encoded data removed]",
      "text/plain": [
       "<Figure size 640x480 with 1 Axes>"
      ]
     },
     "metadata": {},
     "output_type": "display_data"
    }
   ],
   "source": [
    "plt.plot( fos, cxs, '.')\n",
    "plt.plot( fos, cys, '.')\n",
    "\n",
    "pcx_ = np.polyfit( fos, cxs, 2 )\n",
    "pcy_ = np.polyfit( fos, cys, 2 )\n",
    "\n",
    "cxs_  = np.polyval( pcx_, fos_ )\n",
    "cys_  = np.polyval( pcy_, fos_ )\n",
    "\n",
    "\n",
    "plt.plot( fos_, cxs_, '-')\n",
    "plt.plot( fos_, cys_, '-')"
   ]
  },
  {
   "cell_type": "code",
   "execution_count": 43,
   "metadata": {},
   "outputs": [
    {
     "data": {
      "text/plain": [
       "(-75, 1052)"
      ]
     },
     "execution_count": 43,
     "metadata": {},
     "output_type": "execute_result"
    }
   ],
   "source": [
    "mc_focus_far = np.mean(np.array( fos )[ np.array( fos ) >focus_med ], dtype = 'int')\n",
    "mc_focus_mid = np.mean(np.array( fos )[ np.array( fos ) <focus_med ], dtype = 'int')\n",
    "\n",
    "mc_focus_mid, mc_focus_far"
   ]
  },
  {
   "cell_type": "code",
   "execution_count": 135,
   "metadata": {},
   "outputs": [
    {
     "data": {
      "text/plain": [
       "('ZL', -75, 'mid', 0.0, 0.0, 0.0)"
      ]
     },
     "execution_count": 135,
     "metadata": {},
     "output_type": "execute_result"
    }
   ],
   "source": [
    "mc_focus = mc_focus_mid\n",
    "\n",
    "f  = np.polyval( pf_ , mc_focus )\n",
    "cx = np.polyval( pcx_, mc_focus )\n",
    "cy = np.polyval( pcy_, mc_focus )\n",
    "\n",
    "\n",
    "cam_ID, mc_focus, 'mid', f, cx, cy "
   ]
  },
  {
   "cell_type": "code",
   "execution_count": 45,
   "metadata": {},
   "outputs": [
    {
     "data": {
      "text/plain": [
       "('ZL', 1052, 'far', 4743.5401939972098, 44.000000000000021, 13.000000000000009)"
      ]
     },
     "execution_count": 45,
     "metadata": {},
     "output_type": "execute_result"
    }
   ],
   "source": [
    "mc_focus = mc_focus_far\n",
    "\n",
    "f  = np.polyval( pf_ , mc_focus )\n",
    "cx = np.polyval( pcx_, mc_focus )\n",
    "cy = np.polyval( pcy_, mc_focus )\n",
    "\n",
    "\n",
    "cam_ID, mc_focus, 'far', f, cx, cy "
   ]
  },
  {
   "cell_type": "code",
   "execution_count": null,
   "metadata": {},
   "outputs": [],
   "source": [
    "mc_focus = mc_focus_mid\n",
    "\n",
    "f  = np.polyval( pf_ , mc_focus )\n",
    "cx = np.polyval( pcx_, mc_focus )\n",
    "cy = np.polyval( pcy_, mc_focus )\n",
    "\n",
    "\n",
    "cam_ID, mc_focus, 'mid', f, cx, cy "
   ]
  },
  {
   "cell_type": "code",
   "execution_count": null,
   "metadata": {},
   "outputs": [],
   "source": [
    "mc_focus = mc_focus_far\n",
    "\n",
    "f  = np.polyval( pf_ , mc_focus )\n",
    "cx = np.polyval( pcx_, mc_focus )\n",
    "cy = np.polyval( pcy_, mc_focus )\n",
    "\n",
    "\n",
    "cam_ID, mc_focus, 'far', f, cx, cy "
   ]
  },
  {
   "cell_type": "code",
   "execution_count": null,
   "metadata": {},
   "outputs": [],
   "source": []
  },
  {
   "cell_type": "code",
   "execution_count": null,
   "metadata": {},
   "outputs": [],
   "source": []
  },
  {
   "cell_type": "code",
   "execution_count": 132,
   "metadata": {},
   "outputs": [
    {
     "data": {
      "text/html": [
       "<div>\n",
       "<style scoped>\n",
       "    .dataframe tbody tr th:only-of-type {\n",
       "        vertical-align: middle;\n",
       "    }\n",
       "\n",
       "    .dataframe tbody tr th {\n",
       "        vertical-align: top;\n",
       "    }\n",
       "\n",
       "    .dataframe thead th {\n",
       "        text-align: right;\n",
       "    }\n",
       "</style>\n",
       "<table border=\"1\" class=\"dataframe\">\n",
       "  <thead>\n",
       "    <tr style=\"text-align: right;\">\n",
       "      <th></th>\n",
       "      <th>#Label</th>\n",
       "      <th>Enable</th>\n",
       "      <th>X</th>\n",
       "      <th>Y</th>\n",
       "      <th>Z</th>\n",
       "      <th>Omega</th>\n",
       "      <th>Phi</th>\n",
       "      <th>Kappa</th>\n",
       "      <th>Error_(m)</th>\n",
       "      <th>X_error</th>\n",
       "      <th>...</th>\n",
       "      <th>Error_(deg)</th>\n",
       "      <th>Omega_error</th>\n",
       "      <th>Phi_error</th>\n",
       "      <th>Kappa_error</th>\n",
       "      <th>X_est</th>\n",
       "      <th>Y_est</th>\n",
       "      <th>Z_est</th>\n",
       "      <th>Omega_est</th>\n",
       "      <th>Phi_est</th>\n",
       "      <th>Kappa_est</th>\n",
       "    </tr>\n",
       "  </thead>\n",
       "  <tbody>\n",
       "    <tr>\n",
       "      <th>0</th>\n",
       "      <td>NLF_0693_0728460284_145RZS_N0321208NCAM08111_0...</td>\n",
       "      <td>1.0</td>\n",
       "      <td>NaN</td>\n",
       "      <td>NaN</td>\n",
       "      <td>NaN</td>\n",
       "      <td>NaN</td>\n",
       "      <td>NaN</td>\n",
       "      <td>NaN</td>\n",
       "      <td>NaN</td>\n",
       "      <td>NaN</td>\n",
       "      <td>...</td>\n",
       "      <td>NaN</td>\n",
       "      <td>NaN</td>\n",
       "      <td>NaN</td>\n",
       "      <td>NaN</td>\n",
       "      <td>0.351105</td>\n",
       "      <td>-1.906950</td>\n",
       "      <td>1.875063</td>\n",
       "      <td>55.891088</td>\n",
       "      <td>-1.574703</td>\n",
       "      <td>-0.579844</td>\n",
       "    </tr>\n",
       "    <tr>\n",
       "      <th>1</th>\n",
       "      <td>NRF_0693_0728460284_145RZS_N0321208NCAM08111_0...</td>\n",
       "      <td>1.0</td>\n",
       "      <td>NaN</td>\n",
       "      <td>NaN</td>\n",
       "      <td>NaN</td>\n",
       "      <td>NaN</td>\n",
       "      <td>NaN</td>\n",
       "      <td>NaN</td>\n",
       "      <td>NaN</td>\n",
       "      <td>NaN</td>\n",
       "      <td>...</td>\n",
       "      <td>NaN</td>\n",
       "      <td>NaN</td>\n",
       "      <td>NaN</td>\n",
       "      <td>NaN</td>\n",
       "      <td>0.772127</td>\n",
       "      <td>-1.921529</td>\n",
       "      <td>1.878545</td>\n",
       "      <td>55.989582</td>\n",
       "      <td>-1.567398</td>\n",
       "      <td>-0.656582</td>\n",
       "    </tr>\n",
       "    <tr>\n",
       "      <th>2</th>\n",
       "      <td>ZL0_0414_0703684096_456RAD_N0220788ZCAM08428_1...</td>\n",
       "      <td>1.0</td>\n",
       "      <td>NaN</td>\n",
       "      <td>NaN</td>\n",
       "      <td>NaN</td>\n",
       "      <td>NaN</td>\n",
       "      <td>NaN</td>\n",
       "      <td>NaN</td>\n",
       "      <td>NaN</td>\n",
       "      <td>NaN</td>\n",
       "      <td>...</td>\n",
       "      <td>NaN</td>\n",
       "      <td>NaN</td>\n",
       "      <td>NaN</td>\n",
       "      <td>NaN</td>\n",
       "      <td>NaN</td>\n",
       "      <td>NaN</td>\n",
       "      <td>NaN</td>\n",
       "      <td>NaN</td>\n",
       "      <td>NaN</td>\n",
       "      <td>NaN</td>\n",
       "    </tr>\n",
       "    <tr>\n",
       "      <th>3</th>\n",
       "      <td>ZL0_0414_0703684150_456RAD_N0220788ZCAM08428_1...</td>\n",
       "      <td>1.0</td>\n",
       "      <td>NaN</td>\n",
       "      <td>NaN</td>\n",
       "      <td>NaN</td>\n",
       "      <td>NaN</td>\n",
       "      <td>NaN</td>\n",
       "      <td>NaN</td>\n",
       "      <td>NaN</td>\n",
       "      <td>NaN</td>\n",
       "      <td>...</td>\n",
       "      <td>NaN</td>\n",
       "      <td>NaN</td>\n",
       "      <td>NaN</td>\n",
       "      <td>NaN</td>\n",
       "      <td>NaN</td>\n",
       "      <td>NaN</td>\n",
       "      <td>NaN</td>\n",
       "      <td>NaN</td>\n",
       "      <td>NaN</td>\n",
       "      <td>NaN</td>\n",
       "    </tr>\n",
       "    <tr>\n",
       "      <th>4</th>\n",
       "      <td>ZL0_0414_0703684168_488RAD_N0220788ZCAM08428_1...</td>\n",
       "      <td>1.0</td>\n",
       "      <td>NaN</td>\n",
       "      <td>NaN</td>\n",
       "      <td>NaN</td>\n",
       "      <td>NaN</td>\n",
       "      <td>NaN</td>\n",
       "      <td>NaN</td>\n",
       "      <td>NaN</td>\n",
       "      <td>NaN</td>\n",
       "      <td>...</td>\n",
       "      <td>NaN</td>\n",
       "      <td>NaN</td>\n",
       "      <td>NaN</td>\n",
       "      <td>NaN</td>\n",
       "      <td>NaN</td>\n",
       "      <td>NaN</td>\n",
       "      <td>NaN</td>\n",
       "      <td>NaN</td>\n",
       "      <td>NaN</td>\n",
       "      <td>NaN</td>\n",
       "    </tr>\n",
       "    <tr>\n",
       "      <th>...</th>\n",
       "      <td>...</td>\n",
       "      <td>...</td>\n",
       "      <td>...</td>\n",
       "      <td>...</td>\n",
       "      <td>...</td>\n",
       "      <td>...</td>\n",
       "      <td>...</td>\n",
       "      <td>...</td>\n",
       "      <td>...</td>\n",
       "      <td>...</td>\n",
       "      <td>...</td>\n",
       "      <td>...</td>\n",
       "      <td>...</td>\n",
       "      <td>...</td>\n",
       "      <td>...</td>\n",
       "      <td>...</td>\n",
       "      <td>...</td>\n",
       "      <td>...</td>\n",
       "      <td>...</td>\n",
       "      <td>...</td>\n",
       "      <td>...</td>\n",
       "    </tr>\n",
       "    <tr>\n",
       "      <th>1274</th>\n",
       "      <td>ZR0_0693_0728466260_818RAD_N0321214ZCAM08689_1...</td>\n",
       "      <td>1.0</td>\n",
       "      <td>NaN</td>\n",
       "      <td>NaN</td>\n",
       "      <td>NaN</td>\n",
       "      <td>NaN</td>\n",
       "      <td>NaN</td>\n",
       "      <td>NaN</td>\n",
       "      <td>NaN</td>\n",
       "      <td>NaN</td>\n",
       "      <td>...</td>\n",
       "      <td>NaN</td>\n",
       "      <td>NaN</td>\n",
       "      <td>NaN</td>\n",
       "      <td>NaN</td>\n",
       "      <td>NaN</td>\n",
       "      <td>NaN</td>\n",
       "      <td>NaN</td>\n",
       "      <td>NaN</td>\n",
       "      <td>NaN</td>\n",
       "      <td>NaN</td>\n",
       "    </tr>\n",
       "    <tr>\n",
       "      <th>1275</th>\n",
       "      <td>ZR0_0693_0728466283_818RAD_N0321214ZCAM08689_1...</td>\n",
       "      <td>1.0</td>\n",
       "      <td>NaN</td>\n",
       "      <td>NaN</td>\n",
       "      <td>NaN</td>\n",
       "      <td>NaN</td>\n",
       "      <td>NaN</td>\n",
       "      <td>NaN</td>\n",
       "      <td>NaN</td>\n",
       "      <td>NaN</td>\n",
       "      <td>...</td>\n",
       "      <td>NaN</td>\n",
       "      <td>NaN</td>\n",
       "      <td>NaN</td>\n",
       "      <td>NaN</td>\n",
       "      <td>NaN</td>\n",
       "      <td>NaN</td>\n",
       "      <td>NaN</td>\n",
       "      <td>NaN</td>\n",
       "      <td>NaN</td>\n",
       "      <td>NaN</td>\n",
       "    </tr>\n",
       "    <tr>\n",
       "      <th>1276</th>\n",
       "      <td>ZR0_0693_0728466379_818RAD_N0321214ZCAM08689_1...</td>\n",
       "      <td>1.0</td>\n",
       "      <td>NaN</td>\n",
       "      <td>NaN</td>\n",
       "      <td>NaN</td>\n",
       "      <td>NaN</td>\n",
       "      <td>NaN</td>\n",
       "      <td>NaN</td>\n",
       "      <td>NaN</td>\n",
       "      <td>NaN</td>\n",
       "      <td>...</td>\n",
       "      <td>NaN</td>\n",
       "      <td>NaN</td>\n",
       "      <td>NaN</td>\n",
       "      <td>NaN</td>\n",
       "      <td>NaN</td>\n",
       "      <td>NaN</td>\n",
       "      <td>NaN</td>\n",
       "      <td>NaN</td>\n",
       "      <td>NaN</td>\n",
       "      <td>NaN</td>\n",
       "    </tr>\n",
       "    <tr>\n",
       "      <th>1277</th>\n",
       "      <td>ZR0_0693_0728466404_818RAD_N0321214ZCAM08689_1...</td>\n",
       "      <td>1.0</td>\n",
       "      <td>NaN</td>\n",
       "      <td>NaN</td>\n",
       "      <td>NaN</td>\n",
       "      <td>NaN</td>\n",
       "      <td>NaN</td>\n",
       "      <td>NaN</td>\n",
       "      <td>NaN</td>\n",
       "      <td>NaN</td>\n",
       "      <td>...</td>\n",
       "      <td>NaN</td>\n",
       "      <td>NaN</td>\n",
       "      <td>NaN</td>\n",
       "      <td>NaN</td>\n",
       "      <td>NaN</td>\n",
       "      <td>NaN</td>\n",
       "      <td>NaN</td>\n",
       "      <td>NaN</td>\n",
       "      <td>NaN</td>\n",
       "      <td>NaN</td>\n",
       "    </tr>\n",
       "    <tr>\n",
       "      <th>1278</th>\n",
       "      <td>#Total error</td>\n",
       "      <td>NaN</td>\n",
       "      <td>NaN</td>\n",
       "      <td>NaN</td>\n",
       "      <td>NaN</td>\n",
       "      <td>NaN</td>\n",
       "      <td>NaN</td>\n",
       "      <td>NaN</td>\n",
       "      <td>0.00335</td>\n",
       "      <td>0.001728</td>\n",
       "      <td>...</td>\n",
       "      <td>0.084396</td>\n",
       "      <td>0.065624</td>\n",
       "      <td>0.029124</td>\n",
       "      <td>0.044362</td>\n",
       "      <td>NaN</td>\n",
       "      <td>NaN</td>\n",
       "      <td>NaN</td>\n",
       "      <td>NaN</td>\n",
       "      <td>NaN</td>\n",
       "      <td>NaN</td>\n",
       "    </tr>\n",
       "  </tbody>\n",
       "</table>\n",
       "<p>1279 rows × 22 columns</p>\n",
       "</div>"
      ],
      "text/plain": [
       "                                                 #Label  Enable   X   Y   Z  \\\n",
       "0     NLF_0693_0728460284_145RZS_N0321208NCAM08111_0...     1.0 NaN NaN NaN   \n",
       "1     NRF_0693_0728460284_145RZS_N0321208NCAM08111_0...     1.0 NaN NaN NaN   \n",
       "2     ZL0_0414_0703684096_456RAD_N0220788ZCAM08428_1...     1.0 NaN NaN NaN   \n",
       "3     ZL0_0414_0703684150_456RAD_N0220788ZCAM08428_1...     1.0 NaN NaN NaN   \n",
       "4     ZL0_0414_0703684168_488RAD_N0220788ZCAM08428_1...     1.0 NaN NaN NaN   \n",
       "...                                                 ...     ...  ..  ..  ..   \n",
       "1274  ZR0_0693_0728466260_818RAD_N0321214ZCAM08689_1...     1.0 NaN NaN NaN   \n",
       "1275  ZR0_0693_0728466283_818RAD_N0321214ZCAM08689_1...     1.0 NaN NaN NaN   \n",
       "1276  ZR0_0693_0728466379_818RAD_N0321214ZCAM08689_1...     1.0 NaN NaN NaN   \n",
       "1277  ZR0_0693_0728466404_818RAD_N0321214ZCAM08689_1...     1.0 NaN NaN NaN   \n",
       "1278                                       #Total error     NaN NaN NaN NaN   \n",
       "\n",
       "      Omega  Phi  Kappa  Error_(m)   X_error  ...  Error_(deg)  Omega_error  \\\n",
       "0       NaN  NaN    NaN        NaN       NaN  ...          NaN          NaN   \n",
       "1       NaN  NaN    NaN        NaN       NaN  ...          NaN          NaN   \n",
       "2       NaN  NaN    NaN        NaN       NaN  ...          NaN          NaN   \n",
       "3       NaN  NaN    NaN        NaN       NaN  ...          NaN          NaN   \n",
       "4       NaN  NaN    NaN        NaN       NaN  ...          NaN          NaN   \n",
       "...     ...  ...    ...        ...       ...  ...          ...          ...   \n",
       "1274    NaN  NaN    NaN        NaN       NaN  ...          NaN          NaN   \n",
       "1275    NaN  NaN    NaN        NaN       NaN  ...          NaN          NaN   \n",
       "1276    NaN  NaN    NaN        NaN       NaN  ...          NaN          NaN   \n",
       "1277    NaN  NaN    NaN        NaN       NaN  ...          NaN          NaN   \n",
       "1278    NaN  NaN    NaN    0.00335  0.001728  ...     0.084396     0.065624   \n",
       "\n",
       "      Phi_error  Kappa_error     X_est     Y_est     Z_est  Omega_est  \\\n",
       "0           NaN          NaN  0.351105 -1.906950  1.875063  55.891088   \n",
       "1           NaN          NaN  0.772127 -1.921529  1.878545  55.989582   \n",
       "2           NaN          NaN       NaN       NaN       NaN        NaN   \n",
       "3           NaN          NaN       NaN       NaN       NaN        NaN   \n",
       "4           NaN          NaN       NaN       NaN       NaN        NaN   \n",
       "...         ...          ...       ...       ...       ...        ...   \n",
       "1274        NaN          NaN       NaN       NaN       NaN        NaN   \n",
       "1275        NaN          NaN       NaN       NaN       NaN        NaN   \n",
       "1276        NaN          NaN       NaN       NaN       NaN        NaN   \n",
       "1277        NaN          NaN       NaN       NaN       NaN        NaN   \n",
       "1278   0.029124     0.044362       NaN       NaN       NaN        NaN   \n",
       "\n",
       "       Phi_est  Kappa_est  \n",
       "0    -1.574703  -0.579844  \n",
       "1    -1.567398  -0.656582  \n",
       "2          NaN        NaN  \n",
       "3          NaN        NaN  \n",
       "4          NaN        NaN  \n",
       "...        ...        ...  \n",
       "1274       NaN        NaN  \n",
       "1275       NaN        NaN  \n",
       "1276       NaN        NaN  \n",
       "1277       NaN        NaN  \n",
       "1278       NaN        NaN  \n",
       "\n",
       "[1279 rows x 22 columns]"
      ]
     },
     "execution_count": 132,
     "metadata": {},
     "output_type": "execute_result"
    }
   ],
   "source": [
    "path = 'C:/Users/cdt59/Desktop/agisoft/m32_site_cal690_rnav_c.txt'\n",
    "\n",
    "df = pd.read_csv( path, skiprows=1, ) \n",
    "df"
   ]
  },
  {
   "cell_type": "code",
   "execution_count": 139,
   "metadata": {},
   "outputs": [
    {
     "data": {
      "text/plain": [
       "(array([  0.,   0.,   0.,   1.,   1.,   5.,  10.,  22.,  33.,  68.,  78.,\n",
       "         53.,  24.,   4.,   2.,   1.,   0.,   0.,   0.,   0.]),\n",
       " array([-0.01 , -0.009, -0.008, -0.007, -0.006, -0.005, -0.004, -0.003,\n",
       "        -0.002, -0.001,  0.   ,  0.001,  0.002,  0.003,  0.004,  0.005,\n",
       "         0.006,  0.007,  0.008,  0.009,  0.01 ]),\n",
       " <BarContainer object of 20 artists>)"
      ]
     },
     "execution_count": 139,
     "metadata": {},
     "output_type": "execute_result"
    },
    {
     "data": {
      "image/png": "[encoded data removed]",
      "text/plain": [
       "<Figure size 640x480 with 1 Axes>"
      ]
     },
     "metadata": {},
     "output_type": "display_data"
    }
   ],
   "source": [
    "bins = np.linspace(-0.01,0.01,21)\n",
    "\n",
    "plt.hist( df.X-df.X_est, bins=bins, alpha = 0.4 )\n",
    "# plt.hist( df.Y-df.Y_est, bins=bins, alpha = 0.4 )\n",
    "# plt.hist( df.Z-df.Z_est, bins=bins, alpha = 0.4 )"
   ]
  },
  {
   "cell_type": "code",
   "execution_count": 138,
   "metadata": {},
   "outputs": [
    {
     "data": {
      "text/plain": [
       "(0.001727812875601321, 0.001681370062037704, 0.0023258191452901855)"
      ]
     },
     "execution_count": 138,
     "metadata": {},
     "output_type": "execute_result"
    }
   ],
   "source": [
    "np.std(df.X_error), np.std(df.Y_error), np.std(df.Z_error)"
   ]
  },
  {
   "cell_type": "code",
   "execution_count": 105,
   "metadata": {},
   "outputs": [
    {
     "data": {
      "text/plain": [
       "(array([  0.,   3.,   1.,   1.,   2.,   3.,   1.,   0.,   2.,   1.,   8.,\n",
       "          8.,   3.,  13.,   4.,   2.,   3.,   2.,   1.,   2.]),\n",
       " array([-0.1 , -0.09, -0.08, -0.07, -0.06, -0.05, -0.04, -0.03, -0.02,\n",
       "        -0.01,  0.  ,  0.01,  0.02,  0.03,  0.04,  0.05,  0.06,  0.07,\n",
       "         0.08,  0.09,  0.1 ]),\n",
       " <BarContainer object of 20 artists>)"
      ]
     },
     "execution_count": 105,
     "metadata": {},
     "output_type": "execute_result"
    },
    {
     "data": {
      "image/png": "[encoded data removed]",
      "text/plain": [
       "<Figure size 640x480 with 1 Axes>"
      ]
     },
     "metadata": {},
     "output_type": "display_data"
    }
   ],
   "source": [
    "bins = np.linspace(-0.1,0.1,21)\n",
    "\n",
    "plt.hist( df.Kappa-df.Kappa_est, bins=bins, alpha = 0.3 )\n",
    "plt.hist( df.Omega-df.Omega_est, bins=bins, alpha = 0.3 )\n",
    "plt.hist( df.Phi-df.Phi_est, bins=bins, alpha = 0.3 )\n"
   ]
  },
  {
   "cell_type": "code",
   "execution_count": null,
   "metadata": {},
   "outputs": [],
   "source": [
    "path = 'C:/Users/cdt59/Documents/MPPP_workspace/zcam_cal_sol_690/m20_cmods/M2020_CAL_001_SN_4007_MCZL_Z02448_F00048_FLIGHT_RNAV.cahvor'\n",
    "\n",
    "\n"
   ]
  },
  {
   "cell_type": "code",
   "execution_count": null,
   "metadata": {},
   "outputs": [],
   "source": []
  }
 ],
 "metadata": {
  "kernelspec": {
   "display_name": "Python 3 (ipykernel)",
   "language": "python",
   "name": "python3"
  },
  "language_info": {
   "codemirror_mode": {
    "name": "ipython",
    "version": 3
   },
   "file_extension": ".py",
   "mimetype": "text/x-python",
   "name": "python",
   "nbconvert_exporter": "python",
   "pygments_lexer": "ipython3",
   "version": "3.9.13"
  }
 },
 "nbformat": 4,
 "nbformat_minor": 2
}
